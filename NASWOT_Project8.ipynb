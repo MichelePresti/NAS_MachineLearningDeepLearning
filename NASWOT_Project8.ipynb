{
  "nbformat": 4,
  "nbformat_minor": 0,
  "metadata": {
    "colab": {
      "provenance": [],
      "collapsed_sections": [
        "u0Nq2-kqUpgm",
        "Y4fCjA8nZW7T",
        "CW5ewvBLU1OE",
        "aQPU44nMdd3F",
        "ayOrdzLJtH6p"
      ],
      "authorship_tag": "ABX9TyPEamX07e/6qM1pw26a3I5P",
      "include_colab_link": true
    },
    "kernelspec": {
      "name": "python3",
      "display_name": "Python 3"
    },
    "language_info": {
      "name": "python"
    },
    "gpuClass": "standard",
    "widgets": {
      "application/vnd.jupyter.widget-state+json": {
        "1da4e52faecf4c8ead478ccfe6fc1efd": {
          "model_module": "@jupyter-widgets/controls",
          "model_name": "HBoxModel",
          "model_module_version": "1.5.0",
          "state": {
            "_dom_classes": [],
            "_model_module": "@jupyter-widgets/controls",
            "_model_module_version": "1.5.0",
            "_model_name": "HBoxModel",
            "_view_count": null,
            "_view_module": "@jupyter-widgets/controls",
            "_view_module_version": "1.5.0",
            "_view_name": "HBoxView",
            "box_style": "",
            "children": [
              "IPY_MODEL_fe2c64755a0c4129bc335b6ba282dd59",
              "IPY_MODEL_b8f30bbce8eb44e28e0e9be81bd67f57",
              "IPY_MODEL_4e96b8f591c9458ebeaa9b8d11fa1e87"
            ],
            "layout": "IPY_MODEL_d9276544876f44fbac955ed97f2ff008"
          }
        },
        "fe2c64755a0c4129bc335b6ba282dd59": {
          "model_module": "@jupyter-widgets/controls",
          "model_name": "HTMLModel",
          "model_module_version": "1.5.0",
          "state": {
            "_dom_classes": [],
            "_model_module": "@jupyter-widgets/controls",
            "_model_module_version": "1.5.0",
            "_model_name": "HTMLModel",
            "_view_count": null,
            "_view_module": "@jupyter-widgets/controls",
            "_view_module_version": "1.5.0",
            "_view_name": "HTMLView",
            "description": "",
            "description_tooltip": null,
            "layout": "IPY_MODEL_0ba78dddd4af4b68b3fb0d0bbcd01470",
            "placeholder": "​",
            "style": "IPY_MODEL_b53be3aa25694f609e8213bb5ddc7bd5",
            "value": "100%"
          }
        },
        "b8f30bbce8eb44e28e0e9be81bd67f57": {
          "model_module": "@jupyter-widgets/controls",
          "model_name": "FloatProgressModel",
          "model_module_version": "1.5.0",
          "state": {
            "_dom_classes": [],
            "_model_module": "@jupyter-widgets/controls",
            "_model_module_version": "1.5.0",
            "_model_name": "FloatProgressModel",
            "_view_count": null,
            "_view_module": "@jupyter-widgets/controls",
            "_view_module_version": "1.5.0",
            "_view_name": "ProgressView",
            "bar_style": "success",
            "description": "",
            "description_tooltip": null,
            "layout": "IPY_MODEL_d65eff9cf1d642789adfed2e5472b3cb",
            "max": 170498071,
            "min": 0,
            "orientation": "horizontal",
            "style": "IPY_MODEL_51a3ca3a64ee4c73b97138cb51191ca0",
            "value": 170498071
          }
        },
        "4e96b8f591c9458ebeaa9b8d11fa1e87": {
          "model_module": "@jupyter-widgets/controls",
          "model_name": "HTMLModel",
          "model_module_version": "1.5.0",
          "state": {
            "_dom_classes": [],
            "_model_module": "@jupyter-widgets/controls",
            "_model_module_version": "1.5.0",
            "_model_name": "HTMLModel",
            "_view_count": null,
            "_view_module": "@jupyter-widgets/controls",
            "_view_module_version": "1.5.0",
            "_view_name": "HTMLView",
            "description": "",
            "description_tooltip": null,
            "layout": "IPY_MODEL_922aa9675d194057a23a2f12bfe48af7",
            "placeholder": "​",
            "style": "IPY_MODEL_a201dbd7ded5466a869c955cfe943ace",
            "value": " 170498071/170498071 [00:10&lt;00:00, 17259348.23it/s]"
          }
        },
        "d9276544876f44fbac955ed97f2ff008": {
          "model_module": "@jupyter-widgets/base",
          "model_name": "LayoutModel",
          "model_module_version": "1.2.0",
          "state": {
            "_model_module": "@jupyter-widgets/base",
            "_model_module_version": "1.2.0",
            "_model_name": "LayoutModel",
            "_view_count": null,
            "_view_module": "@jupyter-widgets/base",
            "_view_module_version": "1.2.0",
            "_view_name": "LayoutView",
            "align_content": null,
            "align_items": null,
            "align_self": null,
            "border": null,
            "bottom": null,
            "display": null,
            "flex": null,
            "flex_flow": null,
            "grid_area": null,
            "grid_auto_columns": null,
            "grid_auto_flow": null,
            "grid_auto_rows": null,
            "grid_column": null,
            "grid_gap": null,
            "grid_row": null,
            "grid_template_areas": null,
            "grid_template_columns": null,
            "grid_template_rows": null,
            "height": null,
            "justify_content": null,
            "justify_items": null,
            "left": null,
            "margin": null,
            "max_height": null,
            "max_width": null,
            "min_height": null,
            "min_width": null,
            "object_fit": null,
            "object_position": null,
            "order": null,
            "overflow": null,
            "overflow_x": null,
            "overflow_y": null,
            "padding": null,
            "right": null,
            "top": null,
            "visibility": null,
            "width": null
          }
        },
        "0ba78dddd4af4b68b3fb0d0bbcd01470": {
          "model_module": "@jupyter-widgets/base",
          "model_name": "LayoutModel",
          "model_module_version": "1.2.0",
          "state": {
            "_model_module": "@jupyter-widgets/base",
            "_model_module_version": "1.2.0",
            "_model_name": "LayoutModel",
            "_view_count": null,
            "_view_module": "@jupyter-widgets/base",
            "_view_module_version": "1.2.0",
            "_view_name": "LayoutView",
            "align_content": null,
            "align_items": null,
            "align_self": null,
            "border": null,
            "bottom": null,
            "display": null,
            "flex": null,
            "flex_flow": null,
            "grid_area": null,
            "grid_auto_columns": null,
            "grid_auto_flow": null,
            "grid_auto_rows": null,
            "grid_column": null,
            "grid_gap": null,
            "grid_row": null,
            "grid_template_areas": null,
            "grid_template_columns": null,
            "grid_template_rows": null,
            "height": null,
            "justify_content": null,
            "justify_items": null,
            "left": null,
            "margin": null,
            "max_height": null,
            "max_width": null,
            "min_height": null,
            "min_width": null,
            "object_fit": null,
            "object_position": null,
            "order": null,
            "overflow": null,
            "overflow_x": null,
            "overflow_y": null,
            "padding": null,
            "right": null,
            "top": null,
            "visibility": null,
            "width": null
          }
        },
        "b53be3aa25694f609e8213bb5ddc7bd5": {
          "model_module": "@jupyter-widgets/controls",
          "model_name": "DescriptionStyleModel",
          "model_module_version": "1.5.0",
          "state": {
            "_model_module": "@jupyter-widgets/controls",
            "_model_module_version": "1.5.0",
            "_model_name": "DescriptionStyleModel",
            "_view_count": null,
            "_view_module": "@jupyter-widgets/base",
            "_view_module_version": "1.2.0",
            "_view_name": "StyleView",
            "description_width": ""
          }
        },
        "d65eff9cf1d642789adfed2e5472b3cb": {
          "model_module": "@jupyter-widgets/base",
          "model_name": "LayoutModel",
          "model_module_version": "1.2.0",
          "state": {
            "_model_module": "@jupyter-widgets/base",
            "_model_module_version": "1.2.0",
            "_model_name": "LayoutModel",
            "_view_count": null,
            "_view_module": "@jupyter-widgets/base",
            "_view_module_version": "1.2.0",
            "_view_name": "LayoutView",
            "align_content": null,
            "align_items": null,
            "align_self": null,
            "border": null,
            "bottom": null,
            "display": null,
            "flex": null,
            "flex_flow": null,
            "grid_area": null,
            "grid_auto_columns": null,
            "grid_auto_flow": null,
            "grid_auto_rows": null,
            "grid_column": null,
            "grid_gap": null,
            "grid_row": null,
            "grid_template_areas": null,
            "grid_template_columns": null,
            "grid_template_rows": null,
            "height": null,
            "justify_content": null,
            "justify_items": null,
            "left": null,
            "margin": null,
            "max_height": null,
            "max_width": null,
            "min_height": null,
            "min_width": null,
            "object_fit": null,
            "object_position": null,
            "order": null,
            "overflow": null,
            "overflow_x": null,
            "overflow_y": null,
            "padding": null,
            "right": null,
            "top": null,
            "visibility": null,
            "width": null
          }
        },
        "51a3ca3a64ee4c73b97138cb51191ca0": {
          "model_module": "@jupyter-widgets/controls",
          "model_name": "ProgressStyleModel",
          "model_module_version": "1.5.0",
          "state": {
            "_model_module": "@jupyter-widgets/controls",
            "_model_module_version": "1.5.0",
            "_model_name": "ProgressStyleModel",
            "_view_count": null,
            "_view_module": "@jupyter-widgets/base",
            "_view_module_version": "1.2.0",
            "_view_name": "StyleView",
            "bar_color": null,
            "description_width": ""
          }
        },
        "922aa9675d194057a23a2f12bfe48af7": {
          "model_module": "@jupyter-widgets/base",
          "model_name": "LayoutModel",
          "model_module_version": "1.2.0",
          "state": {
            "_model_module": "@jupyter-widgets/base",
            "_model_module_version": "1.2.0",
            "_model_name": "LayoutModel",
            "_view_count": null,
            "_view_module": "@jupyter-widgets/base",
            "_view_module_version": "1.2.0",
            "_view_name": "LayoutView",
            "align_content": null,
            "align_items": null,
            "align_self": null,
            "border": null,
            "bottom": null,
            "display": null,
            "flex": null,
            "flex_flow": null,
            "grid_area": null,
            "grid_auto_columns": null,
            "grid_auto_flow": null,
            "grid_auto_rows": null,
            "grid_column": null,
            "grid_gap": null,
            "grid_row": null,
            "grid_template_areas": null,
            "grid_template_columns": null,
            "grid_template_rows": null,
            "height": null,
            "justify_content": null,
            "justify_items": null,
            "left": null,
            "margin": null,
            "max_height": null,
            "max_width": null,
            "min_height": null,
            "min_width": null,
            "object_fit": null,
            "object_position": null,
            "order": null,
            "overflow": null,
            "overflow_x": null,
            "overflow_y": null,
            "padding": null,
            "right": null,
            "top": null,
            "visibility": null,
            "width": null
          }
        },
        "a201dbd7ded5466a869c955cfe943ace": {
          "model_module": "@jupyter-widgets/controls",
          "model_name": "DescriptionStyleModel",
          "model_module_version": "1.5.0",
          "state": {
            "_model_module": "@jupyter-widgets/controls",
            "_model_module_version": "1.5.0",
            "_model_name": "DescriptionStyleModel",
            "_view_count": null,
            "_view_module": "@jupyter-widgets/base",
            "_view_module_version": "1.2.0",
            "_view_name": "StyleView",
            "description_width": ""
          }
        }
      }
    }
  },
  "cells": [
    {
      "cell_type": "markdown",
      "metadata": {
        "id": "view-in-github",
        "colab_type": "text"
      },
      "source": [
        "<a href=\"https://colab.research.google.com/github/MichelePresti/NAS_MachineLearningDeepLearning/blob/main/NASWOT_Project8.ipynb\" target=\"_parent\"><img src=\"https://colab.research.google.com/assets/colab-badge.svg\" alt=\"Open In Colab\"/></a>"
      ]
    },
    {
      "cell_type": "markdown",
      "metadata": {
        "id": "u0Nq2-kqUpgm"
      },
      "source": [
        "#Define Config\n"
      ]
    },
    {
      "cell_type": "code",
      "execution_count": 173,
      "metadata": {
        "id": "ofIogUx_T3lD"
      },
      "outputs": [],
      "source": [
        "config = {}\n",
        "max_uid = 15625\n",
        "#@title ##Configuration Info { run: \"auto\" }\n",
        "#configuration by param\n",
        "api_loading_mode = \"Lite\" #@param {type: \"string\"} [\"Lite\", \"Full\"]\n",
        "dataset = \"cifar10\" #@param {type:\"string\"} [\"cifar10\", \"cifar100\", \"ImageNet16\"]\n",
        "run_id =  1# @param {type:\"integer\"}\n",
        "trial =  2#@param {type:\"integer\"}\n",
        "n_random =  10#@param {type:\"integer\"}\n",
        "point = '2a' # @param ['2a', '2b']\n",
        "imagenet_path = 'Use only if dataset=Imagenet16' #@param{type:\"string\"}\n",
        "use_default_path = True #@param{type:\"boolean\"}\n",
        "n_evolution = 2#@param{type: \"integer\"}\n",
        "n_arch_distance = 2#@param{type: \"integer\"}\n",
        "n_survivor = 1#@param{type:\"integer\"}\n",
        "population_size = 10#@param{type:\"integer\"}\n",
        "proxy_type = \"ReLU\" #@param {type: \"string\"} [\"ReLU\", \"SynFlow\"]\n",
        "CIFAR10 = 'cifar10'\n",
        "CIFAR100 = 'cifar100'\n",
        "IMAGENET = 'ImageNet16'\n",
        "\n",
        "\n",
        "config['score'] = 'hook_logdet'\n",
        "config['nasspace'] = 'nasbench201'\n",
        "config['augtype'] = 'none'\n",
        "config['dataset'] = dataset\n",
        "config['maxofn'] = 3\n",
        "config['batch_size'] = 128\n",
        "config['seed'] = 1\n",
        "config['run_id'] = run_id\n",
        "config['dataset_id'] = 'CIFAR10'\n",
        "config['start_uid'] = 0 \n",
        "config['stop_uid'] =  15000 \n",
        "config['trial'] = trial\n",
        "config['n_random'] = n_random\n",
        "config['point'] = point\n",
        "config['imagenet_path'] = '/content/drive/MyDrive/ImageNet16' if use_default_path else imagenet_path\n",
        "config['n_evolution'] = n_evolution\n",
        "config['n_arch_distance'] = n_arch_distance\n",
        "config['n_survivor'] = n_survivor\n",
        "config['population_size'] = population_size\n",
        "config['proxy_type'] = proxy_type\n",
        "config['api_loading_mode'] = api_loading_mode\n",
        "\n",
        "#max 15625 stop_uid"
      ]
    },
    {
      "cell_type": "code",
      "source": [
        "from google.colab import drive\n",
        "drive.mount('/content/drive')"
      ],
      "metadata": {
        "id": "h1xetWeZeEDF",
        "colab": {
          "base_uri": "https://localhost:8080/"
        },
        "outputId": "5e5501f5-aee6-4a3f-ade4-6f4d17393405"
      },
      "execution_count": 174,
      "outputs": [
        {
          "output_type": "stream",
          "name": "stdout",
          "text": [
            "Drive already mounted at /content/drive; to attempt to forcibly remount, call drive.mount(\"/content/drive\", force_remount=True).\n"
          ]
        }
      ]
    },
    {
      "cell_type": "code",
      "source": [
        "%%capture\n",
        "!git clone https://github.com/MichelePresti/NAS_MachineLearningDeepLearning"
      ],
      "metadata": {
        "id": "LaYbzg0SY_rA"
      },
      "execution_count": 175,
      "outputs": []
    },
    {
      "cell_type": "code",
      "source": [
        "!cp -r /content/NAS_MachineLearningDeepLearning/neural_model .\n",
        "!cp -r /content/NAS_MachineLearningDeepLearning/ZeroCostNas ."
      ],
      "metadata": {
        "id": "UrTGVZKZZCJn"
      },
      "execution_count": 176,
      "outputs": []
    },
    {
      "cell_type": "markdown",
      "source": [
        "# Importing NasBenchAPI ✍"
      ],
      "metadata": {
        "id": "Y4fCjA8nZW7T"
      }
    },
    {
      "cell_type": "code",
      "source": [
        "import pandas as pd\n",
        "\n",
        "def get_arch_config_by_dataset(dataset) -> pd.DataFrame:\n",
        "    \"\"\"\n",
        "    This function return the architectures config by dataset in a pandas dataframe.\n",
        "    PARAMETERS:\n",
        "       dataset= string among [cifar10, cifar100, imaginet]\n",
        "    \"\"\"\n",
        "    if(dataset == 'cifar10'):\n",
        "        df = pd.read_csv('/content/NAS_MachineLearningDeepLearning/doc/nas_bench_201__CIFAR10_config.csv', header=0)\n",
        "        return df\n",
        "    if(dataset == 'cifar100'):\n",
        "      df = pd.read_csv('/content/NAS_MachineLearningDeepLearning/doc/nas_bench_201__CIFAR100_config.csv', header=0)\n",
        "      return df\n",
        "    if(dataset == 'ImageNet16'):\n",
        "      df = pd.read_csv('/content/NAS_MachineLearningDeepLearning/doc/nas_bench_201__ImageNet16_config.csv', header=0)\n",
        "      return df\n",
        "    else: \n",
        "      print('Dataset name not valid')\n",
        "      return None\n",
        "\n",
        "def get_standard_config(csv_config: pd.DataFrame) -> dict:\n",
        "    res = {}\n",
        "    res['name'] = csv_config.iloc[0]['name']\n",
        "    res['C'] = csv_config.iloc[0]['C']\n",
        "    res['N'] = csv_config.iloc[0]['N']\n",
        "    res['arch_str'] = csv_config.iloc[0]['arch_str']\n",
        "    res['num_classes'] = 1\n",
        "    return res"
      ],
      "metadata": {
        "id": "q2Mp9xSfaCnq"
      },
      "execution_count": 54,
      "outputs": []
    },
    {
      "cell_type": "code",
      "source": [
        "import pandas as pd\n",
        "\n",
        "if config['api_loading_mode'] == 'Lite':\n",
        "  searchspace = get_arch_config_by_dataset(config['dataset'])\n",
        "else:\n",
        "  # To be implemented the full version (Loading the NASBench201 API)\n",
        "  pass\n",
        "\n",
        "print('SearchSpace Loaded')"
      ],
      "metadata": {
        "colab": {
          "base_uri": "https://localhost:8080/"
        },
        "id": "5CjQoImMajYM",
        "outputId": "d5ad3048-f0be-42a1-c97d-f38c7eb2ffca"
      },
      "execution_count": 55,
      "outputs": [
        {
          "output_type": "stream",
          "name": "stdout",
          "text": [
            "SearchSpace Loaded\n"
          ]
        }
      ]
    },
    {
      "cell_type": "markdown",
      "metadata": {
        "id": "CW5ewvBLU1OE"
      },
      "source": [
        "#Import Dataset"
      ]
    },
    {
      "cell_type": "code",
      "execution_count": 56,
      "metadata": {
        "id": "s65hVshwUCVo"
      },
      "outputs": [],
      "source": [
        "##################################################\n",
        "# Copyright (c) Xuanyi Dong [GitHub D-X-Y], 2019 #\n",
        "##################################################\n",
        "import os, sys, hashlib, torch\n",
        "import numpy as np\n",
        "from PIL import Image\n",
        "import torch.utils.data as data\n",
        "\n",
        "if sys.version_info[0] == 2:\n",
        "    import cPickle as pickle\n",
        "else:\n",
        "    import pickle\n",
        "\n",
        "\n",
        "def calculate_md5(fpath, chunk_size=1024 * 1024):\n",
        "    md5 = hashlib.md5()\n",
        "    with open(fpath, \"rb\") as f:\n",
        "        for chunk in iter(lambda: f.read(chunk_size), b\"\"):\n",
        "            md5.update(chunk)\n",
        "    return md5.hexdigest()\n",
        "\n",
        "\n",
        "def check_md5(fpath, md5, **kwargs):\n",
        "    return md5 == calculate_md5(fpath, **kwargs)\n",
        "\n",
        "\n",
        "def check_integrity(fpath, md5=None):\n",
        "    if not os.path.isfile(fpath):\n",
        "        return False\n",
        "    if md5 is None:\n",
        "        return True\n",
        "    else:\n",
        "        return check_md5(fpath, md5)\n",
        "\n",
        "\n",
        "class ImageNet16(data.Dataset):\n",
        "    # http://image-net.org/download-images\n",
        "    # A Downsampled Variant of ImageNet as an Alternative to the CIFAR datasets\n",
        "    # https://arxiv.org/pdf/1707.08819.pdf\n",
        "\n",
        "    train_list = [\n",
        "        [\"train_data_batch_1\", \"27846dcaa50de8e21a7d1a35f30f0e91\"],\n",
        "        [\"train_data_batch_2\", \"c7254a054e0e795c69120a5727050e3f\"],\n",
        "        [\"train_data_batch_3\", \"4333d3df2e5ffb114b05d2ffc19b1e87\"],\n",
        "        [\"train_data_batch_4\", \"1620cdf193304f4a92677b695d70d10f\"],\n",
        "        [\"train_data_batch_5\", \"348b3c2fdbb3940c4e9e834affd3b18d\"],\n",
        "        [\"train_data_batch_6\", \"6e765307c242a1b3d7d5ef9139b48945\"],\n",
        "        [\"train_data_batch_7\", \"564926d8cbf8fc4818ba23d2faac7564\"],\n",
        "        [\"train_data_batch_8\", \"f4755871f718ccb653440b9dd0ebac66\"],\n",
        "        [\"train_data_batch_9\", \"bb6dd660c38c58552125b1a92f86b5d4\"],\n",
        "        [\"train_data_batch_10\", \"8f03f34ac4b42271a294f91bf480f29b\"],\n",
        "    ]\n",
        "    valid_list = [\n",
        "        [\"val_data\", \"3410e3017fdaefba8d5073aaa65e4bd6\"],\n",
        "    ]\n",
        "\n",
        "    def __init__(self, root, train, transform, use_num_of_class_only=None):\n",
        "        self.root = root\n",
        "        self.transform = transform\n",
        "        self.train = train  # training set or valid set\n",
        "        if not self._check_integrity():\n",
        "            raise RuntimeError(\"Dataset not found or corrupted.\")\n",
        "\n",
        "        if self.train:\n",
        "            downloaded_list = self.train_list\n",
        "        else:\n",
        "            downloaded_list = self.valid_list\n",
        "        self.data = []\n",
        "        self.targets = []\n",
        "\n",
        "        # now load the picked numpy arrays\n",
        "        for i, (file_name, checksum) in enumerate(downloaded_list):\n",
        "            file_path = os.path.join(self.root, file_name)\n",
        "            # print ('Load {:}/{:02d}-th : {:}'.format(i, len(downloaded_list), file_path))\n",
        "            with open(file_path, \"rb\") as f:\n",
        "                if sys.version_info[0] == 2:\n",
        "                    entry = pickle.load(f)\n",
        "                else:\n",
        "                    entry = pickle.load(f, encoding=\"latin1\")\n",
        "                self.data.append(entry[\"data\"])\n",
        "                self.targets.extend(entry[\"labels\"])\n",
        "        self.data = np.vstack(self.data).reshape(-1, 3, 16, 16)\n",
        "        self.data = self.data.transpose((0, 2, 3, 1))  # convert to HWC\n",
        "        if use_num_of_class_only is not None:\n",
        "            assert (\n",
        "                isinstance(use_num_of_class_only, int)\n",
        "                and use_num_of_class_only > 0\n",
        "                and use_num_of_class_only < 1000\n",
        "            ), \"invalid use_num_of_class_only : {:}\".format(use_num_of_class_only)\n",
        "            new_data, new_targets = [], []\n",
        "            for I, L in zip(self.data, self.targets):\n",
        "                if 1 <= L <= use_num_of_class_only:\n",
        "                    new_data.append(I)\n",
        "                    new_targets.append(L)\n",
        "            self.data = new_data\n",
        "            self.targets = new_targets\n",
        "\n",
        "    def __repr__(self):\n",
        "        return \"{name}({num} images, {classes} classes)\".format(\n",
        "            name=self.__class__.__name__,\n",
        "            num=len(self.data),\n",
        "            classes=len(set(self.targets)),\n",
        "        )\n",
        "\n",
        "    def __getitem__(self, index):\n",
        "        img, target = self.data[index], self.targets[index] - 1\n",
        "\n",
        "        img = Image.fromarray(img)\n",
        "\n",
        "        if self.transform is not None:\n",
        "            img = self.transform(img)\n",
        "\n",
        "        return img, target\n",
        "\n",
        "    def __len__(self):\n",
        "        return len(self.data)\n",
        "\n",
        "    def _check_integrity(self):\n",
        "        root = self.root\n",
        "        for fentry in self.train_list + self.valid_list:\n",
        "            filename, md5 = fentry[0], fentry[1]\n",
        "            fpath = os.path.join(root, filename)\n",
        "            if not check_integrity(fpath, md5):\n",
        "                return False\n",
        "        return True\n",
        "\n"
      ]
    },
    {
      "cell_type": "code",
      "execution_count": 57,
      "metadata": {
        "id": "wpvhhftTUCTS"
      },
      "outputs": [],
      "source": [
        "from torch.utils.data import DataLoader\n",
        "import torchvision.transforms as transforms\n",
        "import torchvision\n",
        "import torch\n",
        "\n",
        "def get_dataset(dataset) -> DataLoader:\n",
        "    \"\"\"\n",
        "    This function return the dataset given its name in torch DataLoader format.\n",
        "    PARAMETERS:\n",
        "       dataset= string among [cifar10, cifar100, imaginet]\n",
        "    \"\"\"\n",
        "\n",
        "    if dataset == 'cifar10':\n",
        "        mean = [x / 255 for x in [125.3, 123.0, 113.9]]\n",
        "        std = [x / 255 for x in [63.0, 62.1, 66.7]]\n",
        "        lists = [transforms.RandomHorizontalFlip(), transforms.RandomCrop(32, padding=4), transforms.ToTensor(),\n",
        "              transforms.Normalize(mean, std)]\n",
        "        transform = transforms.Compose(lists)\n",
        "        trainset = torchvision.datasets.CIFAR10(root='./data', train=True,\n",
        "                                                download=True, transform=transform)\n",
        "        train_dt = torch.utils.data.DataLoader(trainset, batch_size=config['batch_size'],\n",
        "                                                  shuffle=True, num_workers=2)\n",
        "    elif dataset == 'cifar100':\n",
        "        mean = [x / 255 for x in [129.3, 124.1, 112.4]]\n",
        "        std = [x / 255 for x in [68.2, 65.4, 70.4]]\n",
        "        lists = [transforms.RandomHorizontalFlip(), transforms.RandomCrop(32, padding=4), transforms.ToTensor(),\n",
        "              transforms.Normalize(mean, std)]\n",
        "        transform = transforms.Compose(lists)\n",
        "        trainset = torchvision.datasets.CIFAR100(root='./data', train=True,\n",
        "                                                download=True, transform=transform)\n",
        "        train_dt = torch.utils.data.DataLoader(trainset, batch_size=config['batch_size'],\n",
        "                                                  shuffle=True, num_workers=2)\n",
        "    elif dataset.startswith('ImageNet16'):\n",
        "        mean = [x / 255 for x in [122.68, 116.66, 104.01]]\n",
        "        std = [x / 255 for x in [63.22, 61.26, 65.09]]\n",
        "        lists = [transforms.RandomHorizontalFlip(), transforms.RandomCrop(16, padding=2), transforms.ToTensor(),\n",
        "                 transforms.Normalize(mean, std)]\n",
        "        transform = transforms.Compose(lists)\n",
        "        trainset = ImageNet16(config['imagenet_path'], True, transform, 120)\n",
        "        train_dt = torch.utils.data.DataLoader(trainset, batch_size=config['batch_size'],\n",
        "                                                  shuffle=True, num_workers=2)\n",
        "    else:\n",
        "        raise TypeError(\"Unknow dataset : {:}\".format(dataset))\n",
        "\n",
        "    return train_dt"
      ]
    },
    {
      "cell_type": "code",
      "execution_count": 58,
      "metadata": {
        "id": "xZRyJjrpUCQn",
        "colab": {
          "base_uri": "https://localhost:8080/",
          "height": 0,
          "referenced_widgets": [
            "1da4e52faecf4c8ead478ccfe6fc1efd",
            "fe2c64755a0c4129bc335b6ba282dd59",
            "b8f30bbce8eb44e28e0e9be81bd67f57",
            "4e96b8f591c9458ebeaa9b8d11fa1e87",
            "d9276544876f44fbac955ed97f2ff008",
            "0ba78dddd4af4b68b3fb0d0bbcd01470",
            "b53be3aa25694f609e8213bb5ddc7bd5",
            "d65eff9cf1d642789adfed2e5472b3cb",
            "51a3ca3a64ee4c73b97138cb51191ca0",
            "922aa9675d194057a23a2f12bfe48af7",
            "a201dbd7ded5466a869c955cfe943ace"
          ]
        },
        "outputId": "6c0aa3e5-424f-4b2c-e4cf-9eab44c1d68c"
      },
      "outputs": [
        {
          "output_type": "stream",
          "name": "stdout",
          "text": [
            "Downloading https://www.cs.toronto.edu/~kriz/cifar-10-python.tar.gz to ./data/cifar-10-python.tar.gz\n"
          ]
        },
        {
          "output_type": "display_data",
          "data": {
            "text/plain": [
              "  0%|          | 0/170498071 [00:00<?, ?it/s]"
            ],
            "application/vnd.jupyter.widget-view+json": {
              "version_major": 2,
              "version_minor": 0,
              "model_id": "1da4e52faecf4c8ead478ccfe6fc1efd"
            }
          },
          "metadata": {}
        },
        {
          "output_type": "stream",
          "name": "stdout",
          "text": [
            "Extracting ./data/cifar-10-python.tar.gz to ./data\n"
          ]
        }
      ],
      "source": [
        "train_dt = get_dataset(config['dataset'])"
      ]
    },
    {
      "cell_type": "code",
      "source": [
        "import pandas as pd\n",
        "\n",
        "if config['dataset'] == 'cifar10':\n",
        "  df = pd.read_csv('/content/NAS_MachineLearningDeepLearning/doc/Cifar10Result.csv')\n",
        "elif config['dataset'] == 'cifar100':\n",
        "  df = pd.read_csv('/content/NAS_MachineLearningDeepLearning/doc/Cifar100Result.csv')\n",
        "else:\n",
        "  df = pd.read_csv('/content/NAS_MachineLearningDeepLearning/doc/ImageNet16Result.csv')\n",
        "\n",
        "try: \n",
        "  df.drop(columns=['Unnamed: 0'], inplace=True)\n",
        "except:\n",
        "  print(\"Already dropped\")\n",
        "\n",
        "acc_df = df\n"
      ],
      "metadata": {
        "id": "voCzkEUpcyDc"
      },
      "execution_count": 59,
      "outputs": []
    },
    {
      "cell_type": "markdown",
      "source": [
        "# NASWOT Scoring Algorithm ➗"
      ],
      "metadata": {
        "id": "pz6sd7QLgbv0"
      }
    },
    {
      "cell_type": "code",
      "source": [
        "import numpy as np\n",
        "\n",
        "def get_batch_jacobian(net, x, target, device, args=None):\n",
        "    net.zero_grad()\n",
        "    x.requires_grad_(True)\n",
        "    y, out = net(x)\n",
        "    y.backward(torch.ones_like(y))\n",
        "    jacob = x.grad.detach()\n",
        "    return jacob, target.detach(), y.detach(), out.detach()\n",
        "\n",
        "\n",
        "def hooklogdet(K, labels=None):\n",
        "    s, ld = np.linalg.slogdet(K)\n",
        "    return ld\n",
        "\n",
        "\n",
        "def score_network(network, x, x2, target, device):\n",
        "    jacobs, labels, y, out = get_batch_jacobian(network, x, target, device, config)\n",
        "    network(x2.to(device))\n",
        "    value = hooklogdet(network.K, target)\n",
        "    return value"
      ],
      "metadata": {
        "id": "hqNoimRxgs2U"
      },
      "execution_count": 60,
      "outputs": []
    },
    {
      "cell_type": "code",
      "source": [
        "import time\n",
        "import random\n",
        "import pandas as pd\n",
        "from neural_model.neural_model import get_cell_net\n",
        "\n",
        "\"\"\"\n",
        "NAS WOT Algorithm\n",
        "\"\"\"\n",
        "\n",
        "def naswot_search(dataset, device, population, run_id=-1) -> pd.DataFrame:\n",
        "    result = {'uid': [], 'score': [], 'elapsed_time': [], 'accuracy': [], 'run_id':[]}\n",
        "    for uid in population:\n",
        "      net_config: pd.DataFrame = searchspace.loc[searchspace['uid'] == uid]\n",
        "      net_config: dict = get_standard_config(net_config)\n",
        "      network = get_cell_net(net_config)\n",
        "      try:\n",
        "          start = time.time()\n",
        "          if 'hook_' in config['score']:\n",
        "\n",
        "              def counting_forward_hook(module_hook, inp, out):\n",
        "                  try:\n",
        "                      if hasattr(module_hook, 'visited_backwards') and not module_hook.visited_backwards:\n",
        "                          return\n",
        "                      if isinstance(inp, tuple):\n",
        "                          inp = inp[0]\n",
        "                      inp = inp.view(inp.size(0), -1)\n",
        "                      x = (inp > 0).float()\n",
        "                      K = x @ x.t()\n",
        "                      K2 = (1. - x) @ (1. - x.t())\n",
        "                      if hasattr(network, 'K'):\n",
        "                        network.K = network.K + K.cpu().numpy() + K2.cpu().numpy()\n",
        "                      else: \n",
        "                        network.K = K.cpu().numpy() + K2.cpu().numpy()\n",
        "                  except Exception as exception:\n",
        "                      print(exception)\n",
        "                      pass\n",
        "\n",
        "\n",
        "              def counting_backward_hook(module_hook, inp, out):\n",
        "                  module_hook.visited_backwards = True\n",
        "\n",
        "              j = []\n",
        "              for name, module in network.named_modules():\n",
        "                  j.append(name)\n",
        "                  if 'ReLU' in str(type(module)):\n",
        "                      module.register_forward_hook(counting_forward_hook)\n",
        "                      module.register_backward_hook(counting_backward_hook)\n",
        "          network = network.to(device)\n",
        "          s = []\n",
        "          for j in range(config['maxofn']):\n",
        "              data_iterator = iter(train_dt)\n",
        "              x, target = next(data_iterator)\n",
        "              x2 = torch.clone(x)\n",
        "              x2 = x2.to(device)\n",
        "              x, target = x.to(device), target.to(device)\n",
        "              jacobs, labels, y, out = get_batch_jacobian(network, x, target, device, config)\n",
        "              if 'hook_' in config['score']:\n",
        "                  network(x2.to(device))\n",
        "                  value = hooklogdet(network.K, target)\n",
        "                  s.append(value)\n",
        "              else:\n",
        "                  value = hooklogdet(network.K, target)\n",
        "                  s.append(value)\n",
        "          acc = acc_df['valid-accuracy'].iloc[uid]\n",
        "          print(f'Score (uid {uid}): {np.mean(s)}, Accuracy: {acc}')\n",
        "          stop = time.time()\n",
        "          result['uid'].append(uid)\n",
        "          result['score'].append(np.mean(s))\n",
        "          result['accuracy'].append(acc)\n",
        "          result['run_id'].append(run_id)\n",
        "          score = np.mean(s)\n",
        "          result['elapsed_time'].append(stop-start)\n",
        "      except Exception as e:\n",
        "          print(e)\n",
        "    df = pd.DataFrame.from_dict(result)\n",
        "\n",
        "    result = {'uid': [], 'score': [], 'elapsed_time': [], 'run_id':[]}\n",
        "    return df"
      ],
      "metadata": {
        "id": "Re13w9yFgr8I"
      },
      "execution_count": 61,
      "outputs": []
    },
    {
      "cell_type": "markdown",
      "source": [
        "# Synflow Scoring Algorithm ➗"
      ],
      "metadata": {
        "id": "Im69voAZ98sU"
      }
    },
    {
      "cell_type": "code",
      "source": [
        "import pickle\n",
        "\n",
        "synflow_proxy=[]\n",
        "\n",
        "file_path = ''\n",
        "# dataset = config['dataset']\n",
        "dataset = 'cifar10'\n",
        "print(f'Dataset: {dataset}')\n",
        "if dataset == 'cifar10':\n",
        "  file_path = '/content/drive/MyDrive/results_release/nasbench2/nb2_cf10_seed42_dlrandom_dlinfo1_initwnone_initbnone.p'\n",
        "elif dataset == 'cifar100':\n",
        "  file_path = '/content/drive/MyDrive/results_release/nasbench2/nb2_cf100_seed42_dlrandom_dlinfo1_initwnone_initbnone.p'\n",
        "else:\n",
        "  file_path = '/content/drive/MyDrive/results_release/nasbench2/nb2_im120_seed42_dlrandom_dlinfo1_initwnone_initbnone.p'\n",
        "\n",
        "f = open(file_path,'rb')\n",
        "while(1):\n",
        "    try:\n",
        "        d = pickle.load(f)\n",
        "        synflow_proxy.append(d['logmeasures']['synflow'])\n",
        "    except EOFError:\n",
        "        break\n",
        "f.close()"
      ],
      "metadata": {
        "colab": {
          "base_uri": "https://localhost:8080/"
        },
        "id": "d3E2hhqb-Iem",
        "outputId": "a658ecef-ad15-4251-82a9-bbf5f8ce51f8"
      },
      "execution_count": 62,
      "outputs": [
        {
          "output_type": "stream",
          "name": "stdout",
          "text": [
            "Dataset: cifar10\n"
          ]
        }
      ]
    },
    {
      "cell_type": "code",
      "source": [
        "import time\n",
        "import random\n",
        "import pandas as pd\n",
        "from neural_model.neural_model import get_cell_net\n",
        "\n",
        "\"\"\"\n",
        "NAS WOT Algorithm\n",
        "\"\"\"\n",
        "\n",
        "def synflow_search(dataset, device, population, run_id=-1) -> pd.DataFrame:\n",
        "    result = {'uid': [], 'score': [], 'elapsed_time': [], 'accuracy': [], 'run_id':[]}\n",
        "    for uid in population:\n",
        "     \n",
        "      s = synflow_proxy[uid]\n",
        "      acc = acc_df['valid-accuracy'].iloc[uid]\n",
        "      print(f'Score (uid {uid}): {s}, Accuracy: {acc}')\n",
        "      stop = time.time()\n",
        "      result['uid'].append(uid)\n",
        "      result['score'].append(s)\n",
        "      result['accuracy'].append(acc)\n",
        "      result['run_id'].append(run_id)\n",
        "      score = s\n",
        "      result['elapsed_time'].append(stop-start)\n",
        "    df = pd.DataFrame.from_dict(result)\n",
        "\n",
        "    result = {'uid': [], 'score': [], 'elapsed_time': [], 'run_id':[]}\n",
        "    return df"
      ],
      "metadata": {
        "id": "46j_n3b1-DoT"
      },
      "execution_count": 63,
      "outputs": []
    },
    {
      "cell_type": "markdown",
      "source": [
        "# Point 2 Project 8 (Random Search) ➰\n",
        "\n",
        "---\n",
        "\n",
        "A. Run 30 random search experiments on NASWOT algorithm, storing results about score, accuracy and time.\n",
        "\n",
        "B. For each of the above experiments store the best performing architecture."
      ],
      "metadata": {
        "id": "aQPU44nMdd3F"
      }
    },
    {
      "cell_type": "code",
      "source": [
        "!mkdir ResultToSave"
      ],
      "metadata": {
        "id": "vDgpm_NRw3i_"
      },
      "execution_count": null,
      "outputs": []
    },
    {
      "cell_type": "code",
      "source": [
        "#@title ##Point 2 Configuration { run: \"auto\" }\n",
        "#configuration by param\n",
        "n_trial =  30#@param {type:\"integer\"}\n",
        "n_population =  1000#@param {type:\"integer\"}\n",
        "run_save_path = 'NASWOT_Point2a'#@param {type:\"string\"}\n",
        "best_save_path = 'NASWOT_Point2b'#@param {type:\"string\"}\n",
        "\n",
        "proxy_type = 'Synflow' # Synflow / ReLu\n",
        "\n"
      ],
      "metadata": {
        "id": "DTt7RgSoplBA"
      },
      "execution_count": null,
      "outputs": []
    },
    {
      "cell_type": "code",
      "source": [
        "import time\n",
        "import requests\n",
        "import random\n",
        "import os\n",
        "import pandas as pd\n",
        "from tabulate import tabulate\n",
        "device = torch.device(\"cuda:0\" if torch.cuda.is_available() else \"cpu\")\n",
        "os.environ['WANDB_CONSOLE'] = 'off'\n",
        "start = time.time()\n",
        "\n",
        "run_id = config['run_id']\n",
        "dataset = config['dataset']\n",
        "n = n_population   # N size of random sample\n",
        "trial = n_trial\n",
        "best = {}\n",
        "\n",
        "print('*******************************')\n",
        "print('Running Random Search algorithm')\n",
        "print('Parameters:')\n",
        "print(f'Dataset: {dataset}')\n",
        "print(f'Num Round: {trial}')\n",
        "print(f'Population Size: {n}')\n",
        "print(f'ProxyType: {proxy_type}')\n",
        "print('*******************************')\n",
        "\n",
        "\n",
        "for i in range(trial):\n",
        "  print(f\"Round {i}\")\n",
        "\n",
        "  # Sample N Random architectures among the searchspace\n",
        "  population = random.sample(range(max_uid), n)\n",
        "\n",
        "  # Train Population\n",
        "  if proxy_type == 'ReLu':\n",
        "    trained_population = naswot_search(dataset=dataset, device=device, population=population, run_id=i)\n",
        "  else:\n",
        "    trained_population = synflow_search(dataset=dataset, device=device, population=population)\n",
        "\n",
        "  # Save Training Results\n",
        "  trained_population.to_csv(f'ResultToSave/{run_save_path}_RunID_{i}_Dataset_{dataset}.csv')\n",
        "  trained_population.sort_values(by=['score'], ascending=False, inplace=True)\n",
        "  if len(best) > 0:\n",
        "    best: pd.DataFrame = best.append(trained_population.head(1), ignore_index=True)\n",
        "  else:\n",
        "    best = trained_population.head(config['n_survivor'])\n",
        "\n",
        "best.sort_values(by=['score'], ascending=False, inplace=True)\n",
        "best_of_all = best.head(1)\n",
        "\n",
        "best.to_csv(f'ResultToSave/{best_save_path}_Dataset_{dataset}.csv')\n",
        "stop = time.time()\n",
        "\n",
        "total_time = stop - start\n",
        "print('*****************************************************************')\n",
        "print(f'Best performing net with RandomSearch')\n",
        "print(tabulate(best_of_all, headers='keys', tablefmt='psql', showindex=False))\n",
        "print(f'Total time for search over all searchspace: {total_time}')\n",
        "print('*****************************************************************')\n"
      ],
      "metadata": {
        "id": "t-i6yAbHgWPX"
      },
      "execution_count": null,
      "outputs": []
    },
    {
      "cell_type": "code",
      "source": [],
      "metadata": {
        "id": "XwZmuhzaAuMg"
      },
      "execution_count": null,
      "outputs": []
    },
    {
      "cell_type": "code",
      "source": [
        "# Save Results\n",
        "import pandas as pd\n",
        "import os, fnmatch\n",
        "\n",
        "dataset = config['dataset']\n",
        "def find(pattern, path):\n",
        "    result = []\n",
        "    for root, dirs, files in os.walk(path):\n",
        "        for name in files:\n",
        "            if fnmatch.fnmatch(name, pattern):\n",
        "                result.append(os.path.join(root, name))\n",
        "    return result\n",
        "\n",
        "files_2a = find(f'{run_save_path}_*', '/content/ResultToSave/')\n",
        "files_2b = find(f'{best_save_path}_*', '/content/ResultToSave/')\n",
        "\n",
        "df = []\n",
        "for file in files_2a:\n",
        "  tmp = pd.read_csv(file, header=0)\n",
        "  file_name = file.split('/')[-1]\n",
        "  tmp.to_csv(f'/content/drive/MyDrive/RisultatiNASWOT/{dataset}/{file_name}')\n",
        "\n",
        "for file in files_2b:\n",
        "  tmp = pd.read_csv(file, header=0)\n",
        "  file_name = file.split('/')[-1]\n",
        "  tmp.to_csv(f'/content/drive/MyDrive/RisultatiNASWOT/{dataset}/{file_name}')\n",
        "\n",
        "\n"
      ],
      "metadata": {
        "id": "tghjNHiTvKem"
      },
      "execution_count": null,
      "outputs": []
    },
    {
      "cell_type": "markdown",
      "source": [
        "# Synflow Score/Validation Accuracy Correlation ⏳\n",
        "\n",
        "___\n",
        "\n",
        "In this section the correlation between Synflow Score and Validation Accuracy on each datasets is evaluated."
      ],
      "metadata": {
        "id": "ayOrdzLJtH6p"
      }
    },
    {
      "cell_type": "code",
      "source": [
        "# Calculate and store synflow score over all architectures of the searchspace\n",
        "import pandas as pd\n",
        "from ZeroCostNas.foresight.models import *\n",
        "from ZeroCostNas.foresight.pruners import *\n",
        "from ZeroCostNas.foresight.dataset import *\n",
        "from ZeroCostNas.foresight.weight_initializers import init_net\n",
        "\n",
        "device = torch.device(\"cuda:0\" if torch.cuda.is_available() else \"cpu\")\n",
        "\n",
        "def get_num_classes(dataset):\n",
        "    return 100 if dataset == 'cifar100' else 10 if dataset == 'cifar10' else 120\n",
        "\n",
        "for dataset in ['cifar10', 'cifar100', 'ImageNet16']:\n",
        "  dataloader = get_dataset(dataset)\n",
        "  # if dataset == 'cifar10':\n",
        "  #   accuracy_list = pd.read_csv('/content/NAS_MachineLearningDeepLearning/Cifar10Result.csv')\n",
        "  # elif dataset == 'cifar100':\n",
        "  #   accuracy_list = pd.read_csv('/content/NAS_MachineLearningDeepLearning/Cifar100Result.csv')\n",
        "  # else:\n",
        "  #   accuracy_list = pd.read_csv('/content/NAS_MachineLearningDeepLearning/ImageNet16Result.csv')\n",
        "  if dataset == 'cifar10':\n",
        "    accuracy_list = pd.read_csv('/content/NAS_MachineLearningDeepLearning/Cifar10Result.csv')\n",
        "  elif dataset == 'cifar100':\n",
        "    accuracy_list = pd.read_csv('/content/NAS_MachineLearningDeepLearning/Cifar100Result.csv')\n",
        "  else:\n",
        "    accuracy_list = pd.read_csv('/content/NAS_MachineLearningDeepLearning/ImageNet16Result.csv')\n",
        "    \n",
        "  dataset_result = {'UID': [], 'Score': [], 'Accuracy': []}\n",
        "  for uid in range(max_uid):\n",
        "      net_config: pd.DataFrame = searchspace.loc[searchspace['uid'] == uid]\n",
        "      net_config: dict = get_standard_config(net_config)\n",
        "      network =  nasbench2.get_model_from_arch_str(net_config['arch_str'], get_num_classes(dataset))\n",
        "      network.to(device)\n",
        "      init_net(network, 'none', 'none')\n",
        "      measures = predictive.find_measures(network, dataloader, ('random', 1, get_num_classes(dataset)), device)\n",
        "      print(measures)\n",
        "      dataset_result['UID'].append(uid)\n",
        "      dataset_result['Score'].append(measures['synflow'])\n",
        "      dataset_result['Accuracy'].append(accuracy_list['valid-accuracy'].iloc[uid])\n",
        "  dataset_result = pd.DataFrame(dataset_result)\n",
        "  dataset_result.to_csv(f'SynflowScore_{dataset}.csv')\n"
      ],
      "metadata": {
        "id": "BeOqqxoauCBy"
      },
      "execution_count": null,
      "outputs": []
    },
    {
      "cell_type": "code",
      "source": [
        "import numpy as np\n",
        "\n",
        "def remove_zeros(x):\n",
        "  if x == 0:\n",
        "    return 1\n",
        "  return x\n",
        "\n",
        "slog = list(map(remove_zeros, synflow_proxy))\n",
        "\n",
        "slog = np.log10(slog)\n",
        "# print(len(synflow_proxy))\n",
        "# s = [x for x in synflow_proxy if x != 0]\n",
        "# print(len(s))"
      ],
      "metadata": {
        "id": "x1Lw0KOB-lmu"
      },
      "execution_count": 31,
      "outputs": []
    },
    {
      "cell_type": "code",
      "source": [
        "import pandas as pd\n",
        "import matplotlib\n",
        "\n",
        "accuracy = pd.read_csv('/content/drive/MyDrive/RisultatiNASWOT/Cifar10Accuracy200.csv', header=0)\n",
        "accuracy['synflow_score'] = slog\n",
        "accuracy\n",
        "\n",
        "accuracy.plot.scatter(x=\"test-accuracy\", y=\"synflow_score\", alpha=0.5)\n",
        "print(accuracy.corr('spearman'))\n",
        "\n",
        "\n"
      ],
      "metadata": {
        "id": "uWZajyfvy7-t",
        "colab": {
          "base_uri": "https://localhost:8080/",
          "height": 0
        },
        "outputId": "7afd6259-e459-40b6-b33e-1338373caece"
      },
      "execution_count": 32,
      "outputs": [
        {
          "output_type": "stream",
          "name": "stdout",
          "text": [
            "                Unnamed: 0       uid  test-accuracy  test-all-time  test-loss  \\\n",
            "Unnamed: 0        1.000000  1.000000       0.007653      -0.025306  -0.002085   \n",
            "uid               1.000000  1.000000       0.007653      -0.025306  -0.002085   \n",
            "test-accuracy     0.007653  0.007653       1.000000       0.619677  -0.862271   \n",
            "test-all-time    -0.025306 -0.025306       0.619677       1.000000  -0.379848   \n",
            "test-loss        -0.002085 -0.002085      -0.862271      -0.379848   1.000000   \n",
            "test-per-time    -0.025306 -0.025306       0.619677       1.000000  -0.379848   \n",
            "train-accuracy    0.005439  0.005439       0.966218       0.646543  -0.756571   \n",
            "train-all-time   -0.018322 -0.018322       0.639190       0.961738  -0.430394   \n",
            "train-loss       -0.005725 -0.005725      -0.964890      -0.666003   0.740122   \n",
            "train-per-time   -0.018322 -0.018322       0.639190       0.961738  -0.430394   \n",
            "synflow_score     0.013162  0.013162       0.774872       0.736265  -0.544703   \n",
            "\n",
            "                test-per-time  train-accuracy  train-all-time  train-loss  \\\n",
            "Unnamed: 0          -0.025306        0.005439       -0.018322   -0.005725   \n",
            "uid                 -0.025306        0.005439       -0.018322   -0.005725   \n",
            "test-accuracy        0.619677        0.966218        0.639190   -0.964890   \n",
            "test-all-time        1.000000        0.646543        0.961738   -0.666003   \n",
            "test-loss           -0.379848       -0.756571       -0.430394    0.740122   \n",
            "test-per-time        1.000000        0.646543        0.961738   -0.666003   \n",
            "train-accuracy       0.646543        1.000000        0.656050   -0.996854   \n",
            "train-all-time       0.961738        0.656050        1.000000   -0.674379   \n",
            "train-loss          -0.666003       -0.996854       -0.674379    1.000000   \n",
            "train-per-time       0.961738        0.656050        1.000000   -0.674379   \n",
            "synflow_score        0.736265        0.802260        0.747118   -0.815756   \n",
            "\n",
            "                train-per-time  synflow_score  \n",
            "Unnamed: 0           -0.018322       0.013162  \n",
            "uid                  -0.018322       0.013162  \n",
            "test-accuracy         0.639190       0.774872  \n",
            "test-all-time         0.961738       0.736265  \n",
            "test-loss            -0.430394      -0.544703  \n",
            "test-per-time         0.961738       0.736265  \n",
            "train-accuracy        0.656050       0.802260  \n",
            "train-all-time        1.000000       0.747118  \n",
            "train-loss           -0.674379      -0.815756  \n",
            "train-per-time        1.000000       0.747118  \n",
            "synflow_score         0.747118       1.000000  \n"
          ]
        },
        {
          "output_type": "display_data",
          "data": {
            "text/plain": [
              "<Figure size 432x288 with 1 Axes>"
            ],
            "image/png": "[encoded data removed]"
          },
          "metadata": {
            "needs_background": "light"
          }
        }
      ]
    },
    {
      "cell_type": "code",
      "source": [],
      "metadata": {
        "id": "YT5x2w_w8lLG"
      },
      "execution_count": null,
      "outputs": []
    },
    {
      "cell_type": "markdown",
      "source": [
        "# Define Voting Score ☑\n",
        "---\n",
        "This score is produced by majority vote between Jacobian Gradient Norm (Mellor Paper) and Synflow score"
      ],
      "metadata": {
        "id": "ln0-60e8XxjG"
      }
    },
    {
      "cell_type": "code",
      "source": [
        "# Calculated Voting Score (to finish)\n",
        "\n",
        "t=None\n",
        "all_ds = {}\n",
        "all_acc = {}\n",
        "allc = {}\n",
        "all_metrics = {}\n",
        "all_runs = {}\n",
        "metric_names = ['grad_norm', 'snip', 'grasp', 'fisher', 'synflow', 'jacob_cov']\n",
        "for fname,rname in [('../results_release/nasbench2/nb2_cf10_seed42_dlrandom_dlinfo1_initwnone_initbnone.p','CIFAR10'),\n",
        "                    ('../results_release/nasbench2/nb2_cf100_seed42_dlrandom_dlinfo1_initwnone_initbnone.p','CIFAR100'),\n",
        "                    ('../results_release/nasbench2/nb2_im120_seed42_dlrandom_dlinfo1_initwnone_initbnone.p','ImageNet16-120')]:\n",
        "    runs=[]\n",
        "    f = open(fname,'rb')\n",
        "    while(1):\n",
        "        try:\n",
        "            runs.append(pickle.load(f))\n",
        "        except EOFError:\n",
        "            break\n",
        "    f.close()\n",
        "    print(fname, len(runs))\n",
        "    \n",
        "    all_runs[fname]=runs\n",
        "    all_ds[fname] = {}\n",
        "    metrics={}\n",
        "    for k in metric_names:\n",
        "        metrics[k] = []\n",
        "    acc = []\n",
        "    \n",
        "    if t is None:\n",
        "        hl=['Dataset']\n",
        "        hl.extend(metric_names)\n",
        "        t = PrettyTable(hl)\n",
        "    \n",
        "    for r in runs:\n",
        "        for k,v in r['logmeasures'].items():\n",
        "            if k in metrics:\n",
        "                metrics[k].append(v)\n",
        "        acc.append(r['testacc'])\n",
        "    \n",
        "    all_ds[fname]['metrics'] = metrics\n",
        "    all_ds[fname]['acc'] = acc\n",
        "        \n",
        "    res = []\n",
        "    crs = {}\n",
        "    for k in hl:\n",
        "        if k=='Dataset':\n",
        "            continue\n",
        "        v = metrics[k]\n",
        "        cr = abs(stats.spearmanr(acc,v,nan_policy='omit').correlation)\n",
        "        #print(f'{k} = {cr}')\n",
        "        res.append(round(cr,3))\n",
        "        crs[k]=cr\n",
        "    \n",
        "    ds = rname\n",
        "    all_acc[ds]=acc\n",
        "    allc[ds]=crs\n",
        "    t.add_row([ds]+res)\n",
        "    \n",
        "    all_metrics[ds] = metrics\n",
        "print(t)"
      ],
      "metadata": {
        "id": "xY71g2BRYSKb"
      },
      "execution_count": null,
      "outputs": []
    },
    {
      "cell_type": "code",
      "source": [
        "from tqdm import tqdm\n",
        "votes = {}\n",
        "def vote(mets, gt):\n",
        "    numpos = 0\n",
        "    for m in mets:\n",
        "        numpos += 1 if m > 0 else 0\n",
        "    if numpos >= len(mets)/2:\n",
        "        sign = +1\n",
        "    else:\n",
        "        sign = -1\n",
        "    return sign*gt\n",
        "\n",
        "for ds in all_acc.keys():\n",
        "    num_pts = 15625\n",
        "    #num_pts = 1000\n",
        "    tot=0\n",
        "    right=0\n",
        "    for i in tqdm(range(num_pts)):\n",
        "        for j in range(num_pts):\n",
        "            if i!=j:\n",
        "                diff = all_acc[ds][i] - all_acc[ds][j]\n",
        "                if diff == 0:\n",
        "                    continue\n",
        "                diffsyn = []\n",
        "                for m in ['synflow', 'jacob_cov', 'snip']:\n",
        "                    diffsyn.append(all_metrics[ds][m][i] - all_metrics[ds][m][j])\n",
        "                same_sign = vote(diffsyn, diff)\n",
        "                right += 1 if same_sign > 0 else 0\n",
        "                tot += 1\n",
        "    votes[ds.lower() if 'CIFAR' in ds else ds] = right/tot\n",
        "print('votes correlation: ', votes)"
      ],
      "metadata": {
        "id": "ElZcJ-COYpIc"
      },
      "execution_count": null,
      "outputs": []
    },
    {
      "cell_type": "markdown",
      "source": [
        "# Aging Evolution Algorithm (Synflow Proxy) 👾\n",
        "\n",
        "---\n",
        "\n",
        "### Algorithm Steps\n",
        "\n",
        "1. Get N Random Architectures Called Population\n",
        "2. Run Scoring Algorithm Based On Synflow Proxy Score\n",
        "3. Choose the best architecture and mutate in order to generate a new one\n",
        "4. Pop off the oldest architecture\n",
        "5. Repeat for N Evolution Stage"
      ],
      "metadata": {
        "id": "OZQV3CVfEwqs"
      }
    },
    {
      "cell_type": "code",
      "source": [
        "#@title ##Synflow Proxy Configuration { run: \"auto\" }\n",
        "#configuration by param\n",
        "n_trial =  10#@param {type:\"integer\"}\n",
        "save_path = 'NASWOT_AgingEvolution_ReLu'#@param {type:\"string\"}\n",
        "max_trained_models=1000 #@param {type: 'integer'}\n",
        "pool_size=64 #@param {type: 'integer'}\n",
        "tournament_size=20 #@param {type: 'integer'} \n",
        "preload_score = True #@param{type:\"boolean\"}\n",
        "\n",
        "\n",
        "proxy_type = 'ReLu'"
      ],
      "metadata": {
        "id": "IkQnoYqLGA8F"
      },
      "execution_count": null,
      "outputs": []
    },
    {
      "cell_type": "code",
      "source": [
        "# Get Synflow NasBench201 Score\n",
        "\n",
        "import pickle\n",
        "\n",
        "synflow_proxy=[]\n",
        "\n",
        "file_path = ''\n",
        "# dataset = config['dataset']\n",
        "dataset = 'cifar100'\n",
        "print(f'Dataset: {dataset}')\n",
        "if dataset == 'cifar10':\n",
        "  file_path = '/content/drive/MyDrive/results_release/nasbench2/nb2_cf10_seed42_dlrandom_dlinfo1_initwnone_initbnone.p'\n",
        "elif dataset == 'cifar100':\n",
        "  file_path = '/content/drive/MyDrive/results_release/nasbench2/nb2_cf100_seed42_dlrandom_dlinfo1_initwnone_initbnone.p'\n",
        "else:\n",
        "  file_path = '/content/drive/MyDrive/results_release/nasbench2/nb2_im120_seed42_dlrandom_dlinfo1_initwnone_initbnone.p'\n",
        "\n",
        "f = open(file_path,'rb')\n",
        "while(1):\n",
        "    try:\n",
        "        d = pickle.load(f)\n",
        "        synflow_proxy.append(d['logmeasures']['synflow'])\n",
        "    except EOFError:\n",
        "        break\n",
        "f.close()\n"
      ],
      "metadata": {
        "id": "CmGzNFLWLmXS",
        "colab": {
          "base_uri": "https://localhost:8080/"
        },
        "outputId": "424a99c1-f5a3-4df1-d596-5321d47e4fd4"
      },
      "execution_count": null,
      "outputs": [
        {
          "output_type": "stream",
          "name": "stdout",
          "text": [
            "Dataset: cifar100\n"
          ]
        }
      ]
    },
    {
      "cell_type": "code",
      "source": [
        "import pandas as pd\n",
        "\n",
        "# dataset = config['dataset']\n",
        "\n",
        "\n",
        "if dataset == 'cifar10':\n",
        "  df = pd.read_csv('/content/NAS_MachineLearningDeepLearning/Cifar10Result.csv')\n",
        "elif dataset == 'cifar100':\n",
        "  df = pd.read_csv('/content/NAS_MachineLearningDeepLearning/Cifar100Result.csv')\n",
        "else:\n",
        "  df = pd.read_csv('/content/NAS_MachineLearningDeepLearning/ImageNet16Result.csv')\n",
        "\n",
        "try: \n",
        "  df.drop(columns=['Unnamed: 0'], inplace=True)\n",
        "except:\n",
        "  print(\"Already dropped\")\n",
        "\n",
        "acc_df = df"
      ],
      "metadata": {
        "id": "TtuGugDVAqWK"
      },
      "execution_count": null,
      "outputs": []
    },
    {
      "cell_type": "code",
      "source": [
        "import pandas as pd\n",
        "\n",
        "if dataset == 'cifar10':\n",
        "  df = pd.read_csv('/content/drive/MyDrive/RisultatiNASWOT/Cifar10_CompleteRun.csv')\n",
        "elif dataset == 'cifar100':\n",
        "  df = pd.read_csv('/content/drive/MyDrive/RisultatiNASWOT/Cifar100_CompleteRun.csv')\n",
        "else:\n",
        "  df = pd.read_csv('/content/drive/MyDrive/RisultatiNASWOT/ImageNet_CompleteRun.csv')\n",
        "\n",
        "try: \n",
        "  df.drop(columns=['Unnamed: 0'], inplace=True)\n",
        "except:\n",
        "  print(\"Already dropped\")\n",
        "\n",
        "naswot_score = df"
      ],
      "metadata": {
        "id": "Sw67naoTF-Jl"
      },
      "execution_count": null,
      "outputs": []
    },
    {
      "cell_type": "code",
      "source": [
        "# Load Coded Architectures structures\n",
        "\n",
        "_opname_to_index = {\n",
        "    'none': 0,\n",
        "    'skip_connect': 1,\n",
        "    'nor_conv_1x1': 2,\n",
        "    'nor_conv_3x3': 3,\n",
        "    'avg_pool_3x3': 4\n",
        "}\n",
        "\n",
        "def get_spec_from_arch_str(arch_str):\n",
        "    nodes = arch_str.split('+')\n",
        "    nodes = [node[1:-1].split('|') for node in nodes]\n",
        "    nodes = [[op_and_input.split('~')[0]  for op_and_input in node] for node in nodes]\n",
        "\n",
        "    spec = [_opname_to_index[op] for node in nodes for op in node]\n",
        "    return spec\n",
        "\n",
        "idx_to_spec = {}\n",
        "for i in range(0, max_uid):\n",
        "    idx_to_spec[i] = get_spec_from_arch_str(searchspace.iloc[i]['arch_str'])\n",
        "\n",
        "spec_to_idx = {}\n",
        "for idx,spec in idx_to_spec.items():\n",
        "    spec_to_idx[str(spec)] = idx"
      ],
      "metadata": {
        "id": "1iCHTLVnNZfH"
      },
      "execution_count": null,
      "outputs": []
    },
    {
      "cell_type": "code",
      "source": [
        "import random\n",
        "import copy\n",
        "from ZeroCostNas.foresight.models import *\n",
        "from ZeroCostNas.foresight.pruners import *\n",
        "from ZeroCostNas.foresight.dataset import *\n",
        "from ZeroCostNas.foresight.weight_initializers import init_net\n",
        "\n",
        "dataset = config['dataset']\n",
        "device = torch.device(\"cuda:0\" if torch.cuda.is_available() else \"cpu\")\n",
        "\n",
        "def get_num_classes(dataset):\n",
        "    return 100 if dataset == 'cifar100' else 10 if dataset == 'cifar10' else 120\n",
        "\n",
        "def get_synflow_score(uid):\n",
        "  if proxy_type == 'ReLu':\n",
        "    return naswot_score.iloc[uid]['score']\n",
        "  if preload_score:\n",
        "    return synflow_proxy[uid]\n",
        "  else:\n",
        "    net_config: pd.DataFrame = searchspace.loc[searchspace['uid'] == uid]\n",
        "    net_config: dict = get_standard_config(net_config)\n",
        "    network =  nasbench2.get_model_from_arch_str(net_config['arch_str'], get_num_classes(dataset))\n",
        "    network.to(device)\n",
        "    init_net(network, 'none', 'none')\n",
        "    measures = predictive.find_measures(network, train_dt, ('random', 1, get_num_classes(dataset)), device)\n",
        "    return measures['synflow']\n",
        "\n",
        "def get_voting_score(uid):\n",
        "  return vote_score[uid]\n",
        "\n",
        "def random_spec():\n",
        "    return random.choice(list(idx_to_spec.values()))\n",
        "\n",
        "def mutate_spec(old_spec):\n",
        "\n",
        "    possible_specs = []\n",
        "    for idx_to_change in range(len(old_spec)): \n",
        "        entry_to_change = old_spec[idx_to_change]\n",
        "        possible_entries = [x for x in range(5) if x != entry_to_change]\n",
        "        for new_entry in possible_entries:\n",
        "            new_spec = copy.copy(old_spec)\n",
        "            new_spec[idx_to_change] = new_entry\n",
        "            possible_specs.append((get_synflow_score(spec_to_idx[str(new_spec)]), new_spec))\n",
        "    best_new_spec = random.choice(possible_specs)[1] # sorted(possible_specs, key=lambda i:i[0])[-1][1]\n",
        "    return best_new_spec\n",
        "\n",
        "def random_combination(pool, sample_size):\n",
        "    indices = sorted(random.sample(range(len(pool)), sample_size))\n",
        "    return pool.iloc[indices]"
      ],
      "metadata": {
        "id": "pxOnX87BOWFI"
      },
      "execution_count": null,
      "outputs": []
    },
    {
      "cell_type": "code",
      "source": [
        "def run_aging_evolution(max_trained_models, tournament_size, pool):\n",
        "  epochs = 0\n",
        "  best = {'arch': '', 'score': 0, 'acc': 0}\n",
        "  history = {'UID': [-1],\n",
        "           'Score': [0],\n",
        "           'ValidationAccuracy': [0],\n",
        "           'ArchitectureEncoded': [[1]]}\n",
        "  history = pd.DataFrame(history)\n",
        "  while epochs < max_trained_models:\n",
        "    sample = random_combination(pool, tournament_size)\n",
        "    # print('SAMPLE', tabulate(sample, headers='keys', tablefmt='psql', showindex=False))\n",
        "    sample.sort_values(by='score', ascending=False, inplace=True)\n",
        "    old_best = sample.head(1)\n",
        "    new_spec = mutate_spec(old_best.iloc[0]['arch'])\n",
        "    uid = spec_to_idx[str(new_spec)]\n",
        "\n",
        "    score = get_synflow_score(uid) if score_type != 'vote' else get_voting_score(uid)\n",
        "    acc = acc_df['valid-accuracy'].iloc[uid]\n",
        "\n",
        "    history = history.append({\n",
        "        'UID': uid,\n",
        "        'ArchitectureEncoded': new_spec,\n",
        "        'Score': score,\n",
        "        'ValidationAccuracy': acc\n",
        "    }, ignore_index=True)\n",
        "\n",
        "    # Add New Spec \n",
        "    pool = pool.append({\n",
        "        'uid': uid,\n",
        "        'arch': new_spec,\n",
        "        'score': score,\n",
        "        'acc': acc\n",
        "    }, ignore_index=True)\n",
        "    \n",
        "    # Kill Oldest Spec\n",
        "    pool.drop(index=pool.index[0], \n",
        "        axis=0, \n",
        "        inplace=True)\n",
        "\n",
        "    epochs += 1\n",
        "  \n",
        "  return pool, history"
      ],
      "metadata": {
        "id": "sioHaw5cOhrn"
      },
      "execution_count": null,
      "outputs": []
    },
    {
      "cell_type": "code",
      "source": [
        "import pandas as pd\n",
        "\n",
        "def init_population(pool_size):\n",
        "  pool = {'uid': [], 'arch': [], 'score': [], 'acc': []}\n",
        "  for i in range(pool_size):\n",
        "    arch = random_spec()\n",
        "    uid = spec_to_idx[str(arch)]\n",
        "    score = get_synflow_score(uid)\n",
        "    acc = acc_df['valid-accuracy'].iloc[uid]\n",
        "    pool['uid'].append(uid)\n",
        "    pool['arch'].append(arch)\n",
        "    pool['score'].append(score)\n",
        "    pool['acc'].append(acc)\n",
        "  return pd.DataFrame(pool)"
      ],
      "metadata": {
        "id": "Hse56cR3Tjjp"
      },
      "execution_count": null,
      "outputs": []
    },
    {
      "cell_type": "code",
      "source": [
        "pool = init_population(pool_size)\n",
        "pool"
      ],
      "metadata": {
        "id": "iKJBIxT72JNH"
      },
      "execution_count": null,
      "outputs": []
    },
    {
      "cell_type": "code",
      "source": [
        "# Aging Evolution Algorithm\n",
        "import random\n",
        "import pandas as pd\n",
        "from tabulate import tabulate\n",
        "\n",
        "device = torch.device(\"cuda:0\" if torch.cuda.is_available() else \"cpu\")\n",
        "dataset = 'ImageNet16' # config['dataset']\n",
        "trial = n_trial\n",
        "\n",
        "start = time.time()\n",
        "\n",
        "print('*******************************')\n",
        "print('Running Aging Evolution algorithm')\n",
        "print('Parameters:')\n",
        "print(f'Dataset: {dataset}')\n",
        "print(f'Num Round: {trial}')\n",
        "print(f'Max Trained Models: {max_trained_models}')\n",
        "print(f'Pool Size: {pool_size}')\n",
        "print(f'Tournament Size: {tournament_size}')\n",
        "print(f'Proxy Type: {proxy_type}')\n",
        "print('*******************************')\n",
        "\n",
        "results = {'UID': [],\n",
        "           'Score': [],\n",
        "           'ValidationAccuracy': [],\n",
        "           'ArchitectureEncoded': [],\n",
        "           'RunID': []}\n",
        "\n",
        "# Init Population\n",
        "for i in range(trial):\n",
        "  pool = init_population(pool_size)\n",
        "\n",
        "  models, history = run_aging_evolution(max_trained_models=max_trained_models, tournament_size=tournament_size, pool=pool)\n",
        "\n",
        "  history.to_csv(f'/content/drive/MyDrive/RisultatiNASWOT/ImageNet16/{save_path}_{dataset}_RunHistory_RunID_{i}.csv')\n",
        "  history.sort_values(by='Score', ascending=False, inplace=True)\n",
        "  \n",
        "  best = history.head(1)\n",
        "\n",
        "  \n",
        "  print(best)\n",
        "  results['UID'].append(best.iloc[0]['UID'])\n",
        "  results['Score'].append(best.iloc[0]['Score'])\n",
        "  results['ValidationAccuracy'].append(best.iloc[0]['ValidationAccuracy'])\n",
        "  results['ArchitectureEncoded'].append(best.iloc[0]['ArchitectureEncoded'])\n",
        "  results['RunID'].append(i)\n",
        "\n",
        "  print(f'Best Architecture Run {i}')\n",
        "  print(tabulate(best, headers='keys', tablefmt='psql', showindex=False))\n",
        "\n",
        "\n",
        "stop = time.time()\n",
        "elapsed = stop-start\n",
        "\n",
        "print(f'Total time {elapsed}')\n",
        "results = pd.DataFrame(results)\n",
        "results.to_csv(f'/content/drive/MyDrive/RisultatiNASWOT/ImageNet16/{save_path}_{dataset}.csv')\n"
      ],
      "metadata": {
        "id": "HWyTxfUjUaH0"
      },
      "execution_count": null,
      "outputs": []
    },
    {
      "cell_type": "code",
      "source": [],
      "metadata": {
        "id": "Ri_NyVcVJ_ed"
      },
      "execution_count": null,
      "outputs": []
    },
    {
      "cell_type": "code",
      "source": [
        "import pandas as pd\n",
        "res = {\n",
        "    'uid': [],\n",
        "    'score': [],\n",
        "    'synflow_score': [],\n",
        "    'accuracy': []\n",
        "}\n",
        "\n",
        "df = pd.read_csv('/content/drive/MyDrive/RisultatiNASWOT/Cifar100_CompleteRun.csv', header=0)\n",
        "\n",
        "for i in range(len(df)):\n",
        "  res['uid'].append(i)\n",
        "  res['score'].append(df.iloc[i]['score'])\n",
        "  res['synflow_score'].append(synflow_proxy[i])\n",
        "  res['accuracy'].append(df.iloc[i]['accuracy'])\n",
        "\n",
        "df = pd.DataFrame(res)\n",
        "df.to_csv('/content/drive/MyDrive/RisultatiNASWOT/Cifar100_CompleteRun.csv')"
      ],
      "metadata": {
        "id": "NzLVyaHK74ob"
      },
      "execution_count": null,
      "outputs": []
    },
    {
      "cell_type": "code",
      "source": [],
      "metadata": {
        "id": "vsoXEow743ZS"
      },
      "execution_count": null,
      "outputs": []
    },
    {
      "cell_type": "markdown",
      "source": [
        "# Regularized Evolution Algorithm (Synflow Proxy) 👾\n",
        "\n",
        "---\n",
        "\n",
        "### Algorithm Steps\n",
        "\n",
        "1. Get N Random Architectures Called Population\n",
        "2. Run Scoring Algorithm Based On Synflow Proxy Score\n",
        "3. Choose the best architecture and mutate in order to generate a new one\n",
        "4. Pop off the oldest architecture\n",
        "5. Repeat for N Evolution Stage"
      ],
      "metadata": {
        "id": "Z_FnWDDXMxNW"
      }
    },
    {
      "cell_type": "code",
      "source": [
        "#@title ##Synflow Proxy Configuration { run: \"auto\" }\n",
        "#configuration by param\n",
        "n_trial =  10#@param {type:\"integer\"}\n",
        "save_path = 'NASWOT_AgingEvolution_ReLu'#@param {type:\"string\"}\n",
        "max_trained_models=1000 #@param {type: 'integer'}\n",
        "pool_size=64 #@param {type: 'integer'}\n",
        "tournament_size=20 #@param {type: 'integer'} \n",
        "preload_score = True #@param{type:\"boolean\"}\n",
        "\n",
        "\n",
        "proxy_type = 'SynFlow'"
      ],
      "metadata": {
        "id": "ShOB-uBLMxNd"
      },
      "execution_count": 132,
      "outputs": []
    },
    {
      "cell_type": "code",
      "source": [
        "# Get Synflow NasBench201 Score\n",
        "\n",
        "import pickle\n",
        "\n",
        "synflow_proxy=[]\n",
        "\n",
        "file_path = ''\n",
        "# dataset = config['dataset']\n",
        "dataset = 'ImageNet16'\n",
        "print(f'Dataset: {dataset}')\n",
        "if dataset == 'cifar10':\n",
        "  file_path = '/content/drive/MyDrive/results_release/nasbench2/nb2_cf10_seed42_dlrandom_dlinfo1_initwnone_initbnone.p'\n",
        "elif dataset == 'cifar100':\n",
        "  file_path = '/content/drive/MyDrive/results_release/nasbench2/nb2_cf100_seed42_dlrandom_dlinfo1_initwnone_initbnone.p'\n",
        "else:\n",
        "  file_path = '/content/drive/MyDrive/results_release/nasbench2/nb2_im120_seed42_dlrandom_dlinfo1_initwnone_initbnone.p'\n",
        "\n",
        "f = open(file_path,'rb')\n",
        "while(1):\n",
        "    try:\n",
        "        d = pickle.load(f)\n",
        "        synflow_proxy.append(d['logmeasures']['synflow'])\n",
        "    except EOFError:\n",
        "        break\n",
        "f.close()\n"
      ],
      "metadata": {
        "colab": {
          "base_uri": "https://localhost:8080/"
        },
        "outputId": "bc916334-1fc3-4217-eb13-0b88cb7bce74",
        "id": "wsL652_zMxNd"
      },
      "execution_count": 151,
      "outputs": [
        {
          "output_type": "stream",
          "name": "stdout",
          "text": [
            "Dataset: ImageNet16\n"
          ]
        }
      ]
    },
    {
      "cell_type": "code",
      "source": [
        "import pandas as pd\n",
        "\n",
        "# dataset = config['dataset']\n",
        "\n",
        "# accuracy = pd.read_csv('/content/drive/MyDrive/RisultatiNASWOT/Cifar10Accuracy200.csv', header=0)\n",
        "if dataset == 'cifar10':\n",
        "  df = pd.read_csv('/content/drive/MyDrive/RisultatiNASWOT/Cifar10Accuracy200.csv', header=0) # pd.read_csv('/content/NAS_MachineLearningDeepLearning/doc/Cifar10Result.csv')\n",
        "elif dataset == 'cifar100':\n",
        "  df = pd.read_csv('/content/drive/MyDrive/RisultatiNASWOT/Cifar100Accuracy200.csv', header=0) # pd.read_csv('/content/NAS_MachineLearningDeepLearning/doc/Cifar100Result.csv')\n",
        "else:\n",
        "  df = pd.read_csv('/content/drive/MyDrive/RisultatiNASWOT/ImageNet16Accuracy200.csv', header=0) # pd.read_csv('/content/NAS_MachineLearningDeepLearning/doc/ImageNet16Result.csv')\n",
        "\n",
        "try: \n",
        "  df.drop(columns=['Unnamed: 0'], inplace=True)\n",
        "except:\n",
        "  print(\"Already dropped\")\n",
        "\n",
        "acc_df = df['test-accuracy'] if dataset == 'cifar10' else df['valid-accuracy']\n",
        "# acc_df['valid-accuracy'] = df['test-accuracy'] if dataset == 'cifar10' else df['valid-accuracy']"
      ],
      "metadata": {
        "id": "G6LIWnpoMxNe"
      },
      "execution_count": 152,
      "outputs": []
    },
    {
      "cell_type": "code",
      "source": [
        "acc_df[0]"
      ],
      "metadata": {
        "colab": {
          "base_uri": "https://localhost:8080/"
        },
        "id": "JO4RsVlTShKZ",
        "outputId": "330c893a-4b8a-47df-ca9e-3025fbdec042"
      },
      "execution_count": 153,
      "outputs": [
        {
          "output_type": "execute_result",
          "data": {
            "text/plain": [
              "27.36666668701172"
            ]
          },
          "metadata": {},
          "execution_count": 153
        }
      ]
    },
    {
      "cell_type": "code",
      "source": [
        "import pandas as pd\n",
        "\n",
        "if dataset == 'cifar10':\n",
        "  df = pd.read_csv('/content/drive/MyDrive/RisultatiNASWOT/Cifar10_CompleteRun.csv')\n",
        "elif dataset == 'cifar100':\n",
        "  df = pd.read_csv('/content/drive/MyDrive/RisultatiNASWOT/Cifar100_CompleteRun.csv')\n",
        "else:\n",
        "  df = pd.read_csv('/content/drive/MyDrive/RisultatiNASWOT/ImageNet_CompleteRun.csv')\n",
        "\n",
        "try: \n",
        "  df.drop(columns=['Unnamed: 0'], inplace=True)\n",
        "except:\n",
        "  print(\"Already dropped\")\n",
        "\n",
        "naswot_score = df"
      ],
      "metadata": {
        "id": "n2ZtcRk1MxNe"
      },
      "execution_count": 154,
      "outputs": []
    },
    {
      "cell_type": "code",
      "source": [
        "# Load Coded Architectures structures\n",
        "\n",
        "_opname_to_index = {\n",
        "    'none': 0,\n",
        "    'skip_connect': 1,\n",
        "    'nor_conv_1x1': 2,\n",
        "    'nor_conv_3x3': 3,\n",
        "    'avg_pool_3x3': 4\n",
        "}\n",
        "\n",
        "def get_spec_from_arch_str(arch_str):\n",
        "    nodes = arch_str.split('+')\n",
        "    nodes = [node[1:-1].split('|') for node in nodes]\n",
        "    nodes = [[op_and_input.split('~')[0]  for op_and_input in node] for node in nodes]\n",
        "\n",
        "    spec = [_opname_to_index[op] for node in nodes for op in node]\n",
        "    return spec\n",
        "\n",
        "idx_to_spec = {}\n",
        "for i in range(0, max_uid):\n",
        "    idx_to_spec[i] = get_spec_from_arch_str(searchspace.iloc[i]['arch_str'])\n",
        "\n",
        "spec_to_idx = {}\n",
        "for idx,spec in idx_to_spec.items():\n",
        "    spec_to_idx[str(spec)] = idx"
      ],
      "metadata": {
        "id": "MbMl3VMgMxNe"
      },
      "execution_count": 155,
      "outputs": []
    },
    {
      "cell_type": "code",
      "source": [
        "import random\n",
        "import copy\n",
        "from ZeroCostNas.foresight.models import *\n",
        "from ZeroCostNas.foresight.pruners import *\n",
        "from ZeroCostNas.foresight.dataset import *\n",
        "from ZeroCostNas.foresight.weight_initializers import init_net\n",
        "\n",
        "# dataset = config['dataset']\n",
        "device = torch.device(\"cuda:0\" if torch.cuda.is_available() else \"cpu\")\n",
        "\n",
        "def get_num_classes(dataset):\n",
        "    return 100 if dataset == 'cifar100' else 10 if dataset == 'cifar10' else 120\n",
        "\n",
        "def get_synflow_score(uid):\n",
        "  if proxy_type == 'ReLU':\n",
        "    return naswot_score.iloc[uid]['score']\n",
        "  if preload_score:\n",
        "    return synflow_proxy[uid]\n",
        "  else:\n",
        "    net_config: pd.DataFrame = searchspace.loc[searchspace['uid'] == uid]\n",
        "    net_config: dict = get_standard_config(net_config)\n",
        "    network =  nasbench2.get_model_from_arch_str(net_config['arch_str'], get_num_classes(dataset))\n",
        "    network.to(device)\n",
        "    init_net(network, 'none', 'none')\n",
        "    measures = predictive.find_measures(network, train_dt, ('random', 1, get_num_classes(dataset)), device)\n",
        "    return measures['synflow']\n",
        "\n",
        "def get_voting_score(uid):\n",
        "  return vote_score[uid]\n",
        "\n",
        "def random_spec():\n",
        "    return random.choice(list(idx_to_spec.values()))\n",
        "\n",
        "def mutate_spec(old_spec):\n",
        "\n",
        "    possible_specs = []\n",
        "    for idx_to_change in range(len(old_spec)): \n",
        "        entry_to_change = old_spec[idx_to_change]\n",
        "        possible_entries = [x for x in range(5) if x != entry_to_change]\n",
        "        for new_entry in possible_entries:\n",
        "            new_spec = copy.copy(old_spec)\n",
        "            new_spec[idx_to_change] = new_entry\n",
        "            possible_specs.append((get_synflow_score(spec_to_idx[str(new_spec)]), new_spec))\n",
        "    best_new_spec = random.choice(possible_specs)[1] # sorted(possible_specs, key=lambda i:i[0])[-1][1]\n",
        "    return best_new_spec\n",
        "\n",
        "def random_combination(pool, sample_size):\n",
        "    indices = sorted(random.sample(range(len(pool)), sample_size))\n",
        "    return pool.iloc[indices]"
      ],
      "metadata": {
        "id": "xRLZp_khMxNe"
      },
      "execution_count": 156,
      "outputs": []
    },
    {
      "cell_type": "code",
      "source": [
        "def run_aging_evolution(cycle, sample_size, pool, history):\n",
        "  epochs = 0\n",
        "  best = {'arch': '', 'score': 0, 'acc': 0}\n",
        "  # history = {'UID': [-1],\n",
        "  #          'Score': [0],\n",
        "  #          'ValidationAccuracy': [0],\n",
        "  #          'ArchitectureEncoded': [[1]]}\n",
        "  # history = pd.DataFrame(history)\n",
        "  while epochs < cycle:\n",
        "    sample = random_combination(pool, sample_size)\n",
        "    # print('SAMPLE', tabulate(sample, headers='keys', tablefmt='psql', showindex=False))\n",
        "    sample.sort_values(by='score', ascending=False, inplace=True)\n",
        "    parent = sample.head(1)\n",
        "    new_spec = mutate_spec(parent.iloc[0]['arch'])\n",
        "    uid = spec_to_idx[str(new_spec)]\n",
        "\n",
        "    score = get_synflow_score(uid)# if score_type != 'vote' else get_voting_score(uid)\n",
        "    acc = acc_df[uid]#acc_df['valid-accuracy'].iloc[uid]\n",
        "\n",
        "    history = history.append({\n",
        "        'uid': uid,\n",
        "        'arch': new_spec,\n",
        "        'score': score,\n",
        "        'acc': acc\n",
        "    }, ignore_index=True)\n",
        "\n",
        "    # Add New Spec \n",
        "    pool = pool.append({\n",
        "        'uid': uid,\n",
        "        'arch': new_spec,\n",
        "        'score': score,\n",
        "        'acc': acc\n",
        "    }, ignore_index=True)\n",
        "    \n",
        "    # Kill Oldest Spec\n",
        "    pool.drop(index=pool.index[0], \n",
        "        axis=0, \n",
        "        inplace=True)\n",
        "\n",
        "    epochs += 1\n",
        "  \n",
        "  return pool, history"
      ],
      "metadata": {
        "id": "F6o95C_8MxNe"
      },
      "execution_count": 157,
      "outputs": []
    },
    {
      "cell_type": "code",
      "source": [
        "import pandas as pd\n",
        "\n",
        "def init_population(pool_size = 1000):\n",
        "  pool = {'uid': [], 'arch': [], 'score': [], 'acc': []}\n",
        "  history = {'uid': [], 'arch': [], 'score': [], 'acc': []}\n",
        "  for i in range(pool_size):\n",
        "    arch = random_spec()\n",
        "    uid = spec_to_idx[str(arch)]\n",
        "    score = get_synflow_score(uid)\n",
        "    acc = acc_df[uid]# acc_df['valid-accuracy'].iloc[uid]\n",
        "    pool['uid'].append(uid)\n",
        "    pool['arch'].append(arch)\n",
        "    pool['score'].append(score)\n",
        "    pool['acc'].append(acc)\n",
        "\n",
        "    history['uid'].append(uid)\n",
        "    history['arch'].append(arch)\n",
        "    history['score'].append(score)\n",
        "    history['acc'].append(acc)\n",
        "  return pd.DataFrame(pool), pd.DataFrame(history)"
      ],
      "metadata": {
        "id": "5_1-dN4-MxNf"
      },
      "execution_count": 158,
      "outputs": []
    },
    {
      "cell_type": "code",
      "source": [
        "# Aging Evolution Algorithm\n",
        "import random\n",
        "import pandas as pd\n",
        "from tabulate import tabulate\n",
        "\n",
        "device = torch.device(\"cuda:0\" if torch.cuda.is_available() else \"cpu\")\n",
        "dataset = 'ImageNet16' # config['dataset']\n",
        "trial = n_trial\n",
        "pool_size = 1000\n",
        "start = time.time()\n",
        "\n",
        "print('*******************************')\n",
        "print('Running Aging Evolution algorithm')\n",
        "print('Parameters:')\n",
        "print(f'Dataset: {dataset}')\n",
        "print(f'Num Round: {trial}')\n",
        "print(f'Max Trained Models: {max_trained_models}')\n",
        "print(f'Pool Size: {pool_size}')\n",
        "print(f'Tournament Size: {tournament_size}')\n",
        "print(f'Proxy Type: {proxy_type}')\n",
        "print('*******************************')\n",
        "\n",
        "results = {'UID': [],\n",
        "           'Score': [],\n",
        "           'ValidationAccuracy': [],\n",
        "           'ArchitectureEncoded': [],\n",
        "           'RunID': []}\n",
        "\n",
        "# Init Population\n",
        "for i in range(50):#range(trial):\n",
        "  pool, history = init_population(pool_size)\n",
        "\n",
        "  models, history = run_aging_evolution(cycle=30, sample_size=64, pool=pool, history=history)\n",
        "\n",
        "  # history.to_csv(f'{dataset}_RunHistory_RunID_{i}.csv')\n",
        "  history.sort_values(by='score', ascending=False, inplace=True)\n",
        "  \n",
        "  best = history.head(1)\n",
        "\n",
        "  \n",
        "  print(best)\n",
        "  results['UID'].append(best.iloc[0]['uid'])\n",
        "  results['Score'].append(best.iloc[0]['score'])\n",
        "  results['ValidationAccuracy'].append(best.iloc[0]['acc'])\n",
        "  results['ArchitectureEncoded'].append(best.iloc[0]['arch'])\n",
        "  results['RunID'].append(i)\n",
        "\n",
        "  print(f'Best Architecture Run {i}')\n",
        "  print(tabulate(best, headers='keys', tablefmt='psql', showindex=False))\n",
        "\n",
        "\n",
        "stop = time.time()\n",
        "elapsed = stop-start\n",
        "\n",
        "print(f'Total time {elapsed}')\n",
        "results = pd.DataFrame(results)\n",
        "results.to_csv(f'{dataset}.csv')\n"
      ],
      "metadata": {
        "id": "ogCFXfxjMxNf"
      },
      "execution_count": null,
      "outputs": []
    },
    {
      "cell_type": "code",
      "source": [],
      "metadata": {
        "id": "lPE5XAbtMxNf"
      },
      "execution_count": null,
      "outputs": []
    },
    {
      "cell_type": "code",
      "source": [
        "import pandas as pd\n",
        "res = {\n",
        "    'uid': [],\n",
        "    'score': [],\n",
        "    'synflow_score': [],\n",
        "    'accuracy': []\n",
        "}\n",
        "\n",
        "df = pd.read_csv('/content/drive/MyDrive/RisultatiNASWOT/Cifar100_CompleteRun.csv', header=0)\n",
        "\n",
        "for i in range(len(df)):\n",
        "  res['uid'].append(i)\n",
        "  res['score'].append(df.iloc[i]['score'])\n",
        "  res['synflow_score'].append(synflow_proxy[i])\n",
        "  res['accuracy'].append(df.iloc[i]['accuracy'])\n",
        "\n",
        "df = pd.DataFrame(res)\n",
        "df.to_csv('/content/drive/MyDrive/RisultatiNASWOT/Cifar100_CompleteRun.csv')"
      ],
      "metadata": {
        "id": "BsxMJcQIMxNf"
      },
      "execution_count": null,
      "outputs": []
    },
    {
      "cell_type": "markdown",
      "source": [
        "# Results Analysis 📊"
      ],
      "metadata": {
        "id": "qkQlaZRaYfZK"
      }
    },
    {
      "cell_type": "code",
      "source": [
        "cifar10_synflow_200_path = '/content/drive/MyDrive/project/results/cifar10_SynFlow_Accuracy200.csv'\n",
        "cifar10_relu_200_path = '/content/drive/MyDrive/project/results/cifar10_ReLU_Accuracy200.csv'\n",
        "cifar100_synflow_200_path = '/content/drive/MyDrive/project/results/cifar100_SynFlow_Accuracy200.csv'\n",
        "cifar100_relu_200_path = '/content/drive/MyDrive/project/results/cifar100_ReLU_Accuracy200.csv'\n",
        "imagenet_synflow_200_path = '/content/drive/MyDrive/project/results/ImageNet16_Synflow_Accuracy200.csv'\n",
        "imagenet_relu_200_path = '/content/drive/MyDrive/project/results/ImageNet16_ReLU_Accuracy200.csv'"
      ],
      "metadata": {
        "id": "dIEPAMKeYqqF"
      },
      "execution_count": 177,
      "outputs": []
    },
    {
      "cell_type": "code",
      "source": [
        "cifar10 = pd.read_csv(cifar10_synflow_200_path)\n",
        "cifar100 = pd.read_csv(cifar100_synflow_200_path)\n",
        "imagenet = pd.read_csv(imagenet_synflow_200_path)\n",
        "\n",
        "cifar10_relu = pd.read_csv(cifar10_relu_200_path)\n",
        "cifar100_relu = pd.read_csv(cifar100_relu_200_path)\n",
        "imagenet_relu = pd.read_csv(imagenet_relu_200_path)\n",
        "\n",
        "cifar10_accuracy = cifar10['ValidationAccuracy'].to_numpy()\n",
        "cifar100_accuracy = cifar100['ValidationAccuracy'].to_numpy()\n",
        "imagenet_accuracy = imagenet['ValidationAccuracy'].to_numpy()\n",
        "\n",
        "cifar10_accuracy_relu = cifar10_relu['ValidationAccuracy'].to_numpy()\n",
        "cifar100_accuracy_relu = cifar100_relu['ValidationAccuracy'].to_numpy()\n",
        "imagenet_accuracy_relu = imagenet_relu['ValidationAccuracy'].to_numpy()"
      ],
      "metadata": {
        "id": "ueUu6JErb0Ad"
      },
      "execution_count": 178,
      "outputs": []
    },
    {
      "cell_type": "code",
      "source": [
        "import matplotlib.pyplot as plt\n",
        "import numpy as np\n",
        "\n",
        "# data_to_plot = [cifar10_accuracy, cifar100_accuracy, imagenet_accuracy]\n",
        "\n",
        "# fig = plt.figure()\n",
        "\n",
        "# ax = fig.add_axes([0,0,1,1])\n",
        "# ax.set_xticklabels(['Cifar10', 'Cifar100', 'ImageNet16'])\n",
        "# bp = ax.violinplot(data_to_plot, showmeans=True)\n",
        "# plt.show()\n",
        "\n",
        "\n",
        "fig, (ax1, ax2, ax3) = plt.subplots(nrows=1, ncols=3)\n",
        "\n",
        "# Plot violin plot on axes 1\n",
        "ax1.violinplot([cifar10_accuracy, cifar10_accuracy_relu], showmeans=True,showextrema=True, showmedians=False)\n",
        "ax1.set_title('Cifar10')\n",
        "\n",
        "# Plot violin plot on axes 2\n",
        "ax2.violinplot([cifar100_accuracy, cifar100_accuracy_relu], showmeans=True, showextrema=True,showmedians=False)\n",
        "ax2.set_title('Cifar100')\n",
        "\n",
        "# Plot violin plot on axes 3\n",
        "ax3.violinplot([imagenet_accuracy, imagenet_accuracy_relu], showmeans=True,showextrema=True,showmedians=False)\n",
        "ax3.set_title('ImageNet16')\n",
        "\n",
        "plt.show()"
      ],
      "metadata": {
        "colab": {
          "base_uri": "https://localhost:8080/",
          "height": 281
        },
        "id": "cSIspmTfaKky",
        "outputId": "759d62a3-7663-4d5d-a2b5-d523d0082a61"
      },
      "execution_count": 180,
      "outputs": [
        {
          "output_type": "display_data",
          "data": {
            "text/plain": [
              "<Figure size 432x288 with 3 Axes>"
            ],
            "image/png": "[encoded data removed]"
          },
          "metadata": {
            "needs_background": "light"
          }
        }
      ]
    }
  ]
}